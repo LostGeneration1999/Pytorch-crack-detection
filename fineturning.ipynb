{
 "cells": [
  {
   "cell_type": "code",
   "execution_count": 68,
   "metadata": {},
   "outputs": [],
   "source": [
    "from utils.my_dataloader import ImageTransform, make_datapath_list, HymenopterDataset\n",
    "import glob\n",
    "import os\n",
    "import random\n",
    "import numpy as np\n",
    "import json\n",
    "from PIL import Image\n",
    "from tqdm import tqdm\n",
    "import matplotlib.pyplot as plt\n",
    "\n",
    "import torch\n",
    "import torch.nn as nn\n",
    "import torch.optim as optim\n",
    "import torch.utils.data as data\n",
    "import torchvision\n",
    "from torchvision import models,transforms"
   ]
  },
  {
   "cell_type": "code",
   "execution_count": 2,
   "metadata": {},
   "outputs": [
    {
     "name": "stdout",
     "output_type": "stream",
     "text": [
      "./data/train/**/*.jpg\n",
      "./data/validation/**/*.jpg\n",
      "./data/test/**/*.jpg\n"
     ]
    }
   ],
   "source": [
    "train_list = make_datapath_list(phase='train')\n",
    "validation_list = make_datapath_list(phase='validation')\n",
    "test_list = make_datapath_list(phase='test')"
   ]
  },
  {
   "cell_type": "markdown",
   "metadata": {},
   "source": [
    "前処理・データセット作成・データLoader作成"
   ]
  },
  {
   "cell_type": "code",
   "execution_count": 69,
   "metadata": {},
   "outputs": [],
   "source": [
    "size = 50\n",
    "mean = (0.485, 0.456, 0.406)\n",
    "std = (0.229, 0.224, 0.225)\n",
    "\n",
    "train_dataset = HymenopterDataset(\n",
    "                file_list=train_list,\n",
    "                transform=ImageTransform(size, mean, std),\n",
    "                phase='train',\n",
    "                lis=[])\n",
    "\n",
    "validation_dataset = HymenopterDataset(\n",
    "                    file_list=validation_list,\n",
    "                    transform=ImageTransform(size, mean, std),\n",
    "                    phase='validation',\n",
    "                    lis=[])\n",
    "\n",
    "# 動作確認\n",
    "#index = 0\n",
    "for i in range(len(train_list)):\n",
    "    im_trans, label = train_dataset.__getitem__(i)\n",
    "    \n",
    "batch_size = 32\n",
    "\n",
    "#generate date-loader\n",
    "train_dataloader = torch.utils.data.DataLoader(\n",
    "    train_dataset, batch_size=batch_size, shuffle=True)\n",
    "\n",
    "validation_dataloader = torch.utils.data.DataLoader(\n",
    "    validation_dataset, batch_size=batch_size, shuffle=True)\n",
    "\n",
    "dataloaders_dict = {'train': train_dataloader, 'validation': validation_dataloader, 'test': test_dataloader}\n",
    "device = torch.device(\"cuda:0\" if torch.cuda.is_available() else \"cpu\")\n",
    "class_names = ['crack','black']\n",
    "#iterator ??\n",
    "#batch 32ごとに格納\n",
    "batch_iterator = iter(dataloaders_dict['train'])\n",
    "inputs,labels = next(batch_iterator)\n",
    "#print(inputs.size())"
   ]
  },
  {
   "cell_type": "markdown",
   "metadata": {},
   "source": [
    "ネットワークモデルを作成"
   ]
  },
  {
   "cell_type": "code",
   "execution_count": 70,
   "metadata": {},
   "outputs": [
    {
     "name": "stdout",
     "output_type": "stream",
     "text": [
      "network configuration complete!\n"
     ]
    }
   ],
   "source": [
    "use_pretrained = True\n",
    "net = models.vgg16(pretrained=use_pretrained)\n",
    "\n",
    "net.classifier[6] = nn.Linear(in_features=4096, out_features=2)\n",
    "\n",
    "net.train()\n",
    "print('network configuration complete!')"
   ]
  },
  {
   "cell_type": "markdown",
   "metadata": {},
   "source": [
    "損失関数・オプティマイザ設定"
   ]
  },
  {
   "cell_type": "code",
   "execution_count": 19,
   "metadata": {},
   "outputs": [],
   "source": [
    "criterion = nn.CrossEntropyLoss()"
   ]
  },
  {
   "cell_type": "code",
   "execution_count": 20,
   "metadata": {},
   "outputs": [
    {
     "name": "stdout",
     "output_type": "stream",
     "text": [
      "params_to_update_1に格納: features.0.weight\n",
      "勾配計算なし。: features.0.weight\n",
      "params_to_update_1に格納: features.0.bias\n",
      "勾配計算なし。: features.0.bias\n",
      "params_to_update_1に格納: features.2.weight\n",
      "勾配計算なし。: features.2.weight\n",
      "params_to_update_1に格納: features.2.bias\n",
      "勾配計算なし。: features.2.bias\n",
      "params_to_update_1に格納: features.5.weight\n",
      "勾配計算なし。: features.5.weight\n",
      "params_to_update_1に格納: features.5.bias\n",
      "勾配計算なし。: features.5.bias\n",
      "params_to_update_1に格納: features.7.weight\n",
      "勾配計算なし。: features.7.weight\n",
      "params_to_update_1に格納: features.7.bias\n",
      "勾配計算なし。: features.7.bias\n",
      "params_to_update_1に格納: features.10.weight\n",
      "勾配計算なし。: features.10.weight\n",
      "params_to_update_1に格納: features.10.bias\n",
      "勾配計算なし。: features.10.bias\n",
      "params_to_update_1に格納: features.12.weight\n",
      "勾配計算なし。: features.12.weight\n",
      "params_to_update_1に格納: features.12.bias\n",
      "勾配計算なし。: features.12.bias\n",
      "params_to_update_1に格納: features.14.weight\n",
      "勾配計算なし。: features.14.weight\n",
      "params_to_update_1に格納: features.14.bias\n",
      "勾配計算なし。: features.14.bias\n",
      "params_to_update_1に格納: features.17.weight\n",
      "勾配計算なし。: features.17.weight\n",
      "params_to_update_1に格納: features.17.bias\n",
      "勾配計算なし。: features.17.bias\n",
      "params_to_update_1に格納: features.19.weight\n",
      "勾配計算なし。: features.19.weight\n",
      "params_to_update_1に格納: features.19.bias\n",
      "勾配計算なし。: features.19.bias\n",
      "params_to_update_1に格納: features.21.weight\n",
      "勾配計算なし。: features.21.weight\n",
      "params_to_update_1に格納: features.21.bias\n",
      "勾配計算なし。: features.21.bias\n",
      "params_to_update_1に格納: features.24.weight\n",
      "勾配計算なし。: features.24.weight\n",
      "params_to_update_1に格納: features.24.bias\n",
      "勾配計算なし。: features.24.bias\n",
      "params_to_update_1に格納: features.26.weight\n",
      "勾配計算なし。: features.26.weight\n",
      "params_to_update_1に格納: features.26.bias\n",
      "勾配計算なし。: features.26.bias\n",
      "params_to_update_1に格納: features.28.weight\n",
      "勾配計算なし。: features.28.weight\n",
      "params_to_update_1に格納: features.28.bias\n",
      "勾配計算なし。: features.28.bias\n",
      "params_to_update_2に格納: classifier.0.weight\n",
      "勾配計算なし。: classifier.0.weight\n",
      "勾配計算なし。: classifier.0.bias\n",
      "勾配計算なし。: classifier.3.weight\n",
      "勾配計算なし。: classifier.3.bias\n",
      "params_to_update_3に格納: classifier.6.weight\n",
      "勾配計算なし。: classifier.6.bias\n"
     ]
    }
   ],
   "source": [
    "params_to_update_1 = []\n",
    "params_to_update_2 = []\n",
    "params_to_update_3 = []\n",
    "\n",
    "update_param_names_1 = ['features']\n",
    "update_param_names_2 = [\"classifier.0.weight\", \"classifier.0.bias\", \"classifier.3.weight\", \"classifier.3.bias\"]\n",
    "update_param_names_3 = [\"classifier.6.weight\", \"classifier.6.bias\"]\n",
    "\n",
    "for name, param in net.named_parameters():\n",
    "    if update_param_names_1[0] in name:\n",
    "        param.requires_grad = True\n",
    "        params_to_update_1.append(param)\n",
    "        print('params_to_update_1に格納: %s'%name)\n",
    "        \n",
    "    elif update_param_names_2[0] in name:\n",
    "        param.requires_grad = True\n",
    "        params_to_update_2.append(param)\n",
    "        print('params_to_update_2に格納: %s'%name)\n",
    "        \n",
    "    if update_param_names_3[0] in name:\n",
    "        param.requires_grad = True\n",
    "        params_to_update_3.append(param)\n",
    "        print('params_to_update_3に格納: %s'%name)\n",
    "        \n",
    "    else:\n",
    "        param.requires_grad = False\n",
    "        print('勾配計算なし。: %s'%name)\n",
    "        "
   ]
  },
  {
   "cell_type": "code",
   "execution_count": 21,
   "metadata": {},
   "outputs": [],
   "source": [
    "# 最適化手法の設定\n",
    "optimizer = optim.SGD([\n",
    "    {'params': params_to_update_1, 'lr': 1e-4},\n",
    "    {'params': params_to_update_2, 'lr': 5e-4},\n",
    "    {'params': params_to_update_3, 'lr': 1e-3}\n",
    "], momentum=0.9)"
   ]
  },
  {
   "cell_type": "code",
   "execution_count": 22,
   "metadata": {},
   "outputs": [],
   "source": [
    "def train_model(net, dataloaders_dict, criterion, optimizer, num_epochs):\n",
    "\n",
    "    # 初期設定\n",
    "    # GPUが使えるかを確認\n",
    "    device = torch.device(\"cuda:0\" if torch.cuda.is_available() else \"cpu\")\n",
    "    print(\"使用デバイス：\", device)\n",
    "\n",
    "    # ネットワークをGPUへ\n",
    "    net.to(device)\n",
    "\n",
    "    # ネットワークがある程度固定であれば、高速化させる\n",
    "    torch.backends.cudnn.benchmark = True\n",
    "\n",
    "    # epochのループ\n",
    "    for epoch in range(num_epochs):\n",
    "        print('Epoch {}/{}'.format(epoch+1, num_epochs))\n",
    "        print('-------------')\n",
    "\n",
    "        # epochごとの訓練と検証のループ\n",
    "        for phase in ['train', 'validation']:\n",
    "            if phase == 'train':\n",
    "                net.train()  # モデルを訓練モードに\n",
    "            else:\n",
    "                net.eval()   # モデルを検証モードに\n",
    "\n",
    "            epoch_loss = 0.0  # epochの損失和\n",
    "            epoch_corrects = 0  # epochの正解数\n",
    "\n",
    "            # 未学習時の検証性能を確かめるため、epoch=0の訓練は省略\n",
    "            if (epoch == 0) and (phase == 'train'):\n",
    "                continue\n",
    "\n",
    "            # データローダーからミニバッチを取り出すループ\n",
    "            for inputs, labels in tqdm(dataloaders_dict[phase]):\n",
    "\n",
    "                # GPUが使えるならGPUにデータを送る\n",
    "                inputs = inputs.to(device)\n",
    "                labels = labels.to(device)\n",
    "\n",
    "                # optimizerを初期化\n",
    "                optimizer.zero_grad()\n",
    "\n",
    "                # 順伝搬（forward）計算\n",
    "                with torch.set_grad_enabled(phase == 'train'):\n",
    "                    outputs = net(inputs)\n",
    "                    loss = criterion(outputs, labels)  # 損失を計算\n",
    "                    _, preds = torch.max(outputs, 1)  # ラベルを予測\n",
    "\n",
    "                    # 訓練時はバックプロパゲーション\n",
    "                    if phase == 'train':\n",
    "                        loss.backward()\n",
    "                        optimizer.step()\n",
    "\n",
    "                    # 結果の計算\n",
    "                    epoch_loss += loss.item() * inputs.size(0)  # lossの合計を更新\n",
    "                    # 正解数の合計を更新\n",
    "                    epoch_corrects += torch.sum(preds == labels.data)\n",
    "\n",
    "            # epochごとのlossと正解率を表示\n",
    "            epoch_loss = epoch_loss / len(dataloaders_dict[phase].dataset)\n",
    "            epoch_acc = epoch_corrects.double(\n",
    "            ) / len(dataloaders_dict[phase].dataset)\n",
    "\n",
    "            print('{} Loss: {:.4f} Acc: {:.4f}'.format(\n",
    "                phase, epoch_loss, epoch_acc))\n"
   ]
  },
  {
   "cell_type": "code",
   "execution_count": 36,
   "metadata": {},
   "outputs": [],
   "source": [
    "def tensor_to_np(inp):\n",
    "    \"imshow for Tensor\"\n",
    "    inp = inp.numpy().transpose((1,2,0))\n",
    "    mean = np.array([0.485, 0.456, 0.406])\n",
    "    std = np.array([0.229, 0.224, 0.225])\n",
    "    inp = std * inp + mean\n",
    "    inp = np.clip(inp, 0, 1)\n",
    "    return inp\n",
    "\n",
    "def visualize_model(model, num_images=20):\n",
    "    was_training = model.training\n",
    "    model.eval()\n",
    "    images_so_far = 0\n",
    "    fig = plt.figure()\n",
    "\n",
    "    with torch.no_grad():\n",
    "        for i, (inputs, labels) in enumerate(dataloaders_dict['validation']):\n",
    "            inputs = inputs.to(device)\n",
    "            labels = labels.to(device)\n",
    "\n",
    "            outputs = model(inputs)\n",
    "            print(outputs)\n",
    "            _, preds = torch.max(outputs, 1)\n",
    "\n",
    "\n",
    "            for j in range(inputs.size()[0]):\n",
    "                images_so_far += 1\n",
    "                ax = fig.add_subplot(num_images//2, 2, images_so_far)\n",
    "                ax.axis('off')\n",
    "                ax.set_title('predicted: {}  label: {}'\n",
    "                             .format(class_names[preds[j]], class_names[labels[j]]))\n",
    "                ax.imshow(tensor_to_np(inputs.cpu().data[j]))\n",
    "\n",
    "                if images_so_far == num_images:\n",
    "                    model.train(mode=was_training)\n",
    "                    return\n",
    "        model.train(mode=was_training)"
   ]
  },
  {
   "cell_type": "code",
   "execution_count": 37,
   "metadata": {},
   "outputs": [
    {
     "name": "stderr",
     "output_type": "stream",
     "text": [
      "100%|██████████| 10/10 [00:00<00:00, 51.98it/s]\n",
      "  0%|          | 0/14 [00:00<?, ?it/s]"
     ]
    },
    {
     "name": "stdout",
     "output_type": "stream",
     "text": [
      "使用デバイス： cuda:0\n",
      "Epoch 1/3\n",
      "-------------\n",
      "validation Loss: 9.5192 Acc: 0.0000\n",
      "Epoch 2/3\n",
      "-------------\n"
     ]
    },
    {
     "name": "stderr",
     "output_type": "stream",
     "text": [
      "100%|██████████| 14/14 [00:00<00:00, 53.86it/s]\n",
      "100%|██████████| 10/10 [00:00<00:00, 56.26it/s]\n",
      "  0%|          | 0/14 [00:00<?, ?it/s]"
     ]
    },
    {
     "name": "stdout",
     "output_type": "stream",
     "text": [
      "train Loss: 0.0031 Acc: 1.0000\n",
      "validation Loss: 9.9145 Acc: 0.0000\n",
      "Epoch 3/3\n",
      "-------------\n"
     ]
    },
    {
     "name": "stderr",
     "output_type": "stream",
     "text": [
      "100%|██████████| 14/14 [00:00<00:00, 53.56it/s]\n",
      "100%|██████████| 10/10 [00:00<00:00, 56.48it/s]\n"
     ]
    },
    {
     "name": "stdout",
     "output_type": "stream",
     "text": [
      "train Loss: 0.0029 Acc: 1.0000\n",
      "validation Loss: 10.1661 Acc: 0.0000\n",
      "tensor([[-3.7288,  3.2360],\n",
      "        [ 2.6134, -2.5900],\n",
      "        [ 7.0357, -7.6756],\n",
      "        [ 9.7421, -9.6144],\n",
      "        [ 5.6972, -6.0480],\n",
      "        [ 8.1566, -8.2645],\n",
      "        [-1.9079,  1.1738],\n",
      "        [-4.0920,  3.4562],\n",
      "        [-3.1224,  2.6329],\n",
      "        [11.3893, -9.8167],\n",
      "        [-2.6441,  2.2349],\n",
      "        [-4.0063,  3.4739],\n",
      "        [ 4.4562, -4.2939],\n",
      "        [ 9.6057, -8.7542],\n",
      "        [ 6.4756, -5.9411],\n",
      "        [-4.1202,  3.5774],\n",
      "        [-4.8102,  4.1837],\n",
      "        [ 9.2808, -9.0905],\n",
      "        [-3.5383,  3.0734],\n",
      "        [ 9.6530, -9.4004],\n",
      "        [ 7.5513, -7.1283],\n",
      "        [-3.3802,  2.8670],\n",
      "        [ 7.2520, -7.6502],\n",
      "        [-3.7859,  3.6301],\n",
      "        [-3.7173,  3.3511],\n",
      "        [-2.8236,  2.1796],\n",
      "        [ 1.4512, -1.7321],\n",
      "        [ 5.2205, -5.4318],\n",
      "        [-3.2026,  2.6376],\n",
      "        [-2.5761,  1.9022],\n",
      "        [ 3.3220, -3.7701],\n",
      "        [-2.0250,  1.3682]], device='cuda:0')\n"
     ]
    },
    {
     "data": {
      "image/png": "[encoded data removed]",
      "text/plain": [
       "<Figure size 432x288 with 20 Axes>"
      ]
     },
     "metadata": {
      "needs_background": "light"
     },
     "output_type": "display_data"
    }
   ],
   "source": [
    "# 学習・検証を実行する\n",
    "num_epochs=3\n",
    "train_model(net, dataloaders_dict, criterion, optimizer, num_epochs=num_epochs)\n",
    "visualize_model(net)"
   ]
  },
  {
   "cell_type": "code",
   "execution_count": 25,
   "metadata": {},
   "outputs": [],
   "source": [
    "save_path = './weights_fine_tuning.pth'\n",
    "torch.save(net.state_dict(), save_path)"
   ]
  },
  {
   "cell_type": "code",
   "execution_count": 71,
   "metadata": {},
   "outputs": [
    {
     "data": {
      "text/plain": [
       "<All keys matched successfully>"
      ]
     },
     "execution_count": 71,
     "metadata": {},
     "output_type": "execute_result"
    }
   ],
   "source": [
    "load_path = './weights_fine_tuning.pth'\n",
    "load_weights = torch.load(load_path)\n",
    "net.load_state_dict(load_weights)"
   ]
  },
  {
   "cell_type": "code",
   "execution_count": 72,
   "metadata": {},
   "outputs": [],
   "source": [
    "net = net.eval()"
   ]
  },
  {
   "cell_type": "code",
   "execution_count": 74,
   "metadata": {},
   "outputs": [
    {
     "name": "stdout",
     "output_type": "stream",
     "text": [
      "data/test/crack/cam1337338_21.jpg\n",
      "tensor([[ 6.7995, -6.5870]])\n",
      "入力画像の予測結果： crack\n",
      "data/test/crack/cam0137300_1.jpg\n",
      "tensor([[-3.6258,  3.1862]])\n",
      "入力画像の予測結果： black\n",
      "data/test/crack/cam0137311_1.jpg\n",
      "tensor([[-4.0118,  3.7096]])\n",
      "入力画像の予測結果： black\n",
      "data/test/crack/cam1337338_13.jpg\n",
      "tensor([[ 6.3530, -6.4732]])\n",
      "入力画像の予測結果： crack\n",
      "data/test/crack/cam1337337_8.jpg\n",
      "tensor([[ 7.3774, -7.6213]])\n",
      "入力画像の予測結果： crack\n",
      "data/test/crack/cam1337337_20.jpg\n",
      "tensor([[ 7.8321, -7.0156]])\n",
      "入力画像の予測結果： crack\n",
      "data/test/crack/cam0137261_4.jpg\n",
      "tensor([[-3.9124,  3.3330]])\n",
      "入力画像の予測結果： black\n",
      "data/test/crack/cam1337337_2.jpg\n",
      "tensor([[ 8.6844, -8.8432]])\n",
      "入力画像の予測結果： crack\n",
      "data/test/crack/cam0137274_2.jpg\n",
      "tensor([[-2.7152,  2.2572]])\n",
      "入力画像の予測結果： black\n",
      "data/test/crack/cam1337334_31.jpg\n",
      "tensor([[ 6.5014, -6.5307]])\n",
      "入力画像の予測結果： crack\n",
      "data/test/crack/cam0137334_7.jpg\n",
      "tensor([[-3.8533,  3.3759]])\n",
      "入力画像の予測結果： black\n",
      "data/test/crack/cam1337337_11.jpg\n",
      "tensor([[ 7.4362, -6.7545]])\n",
      "入力画像の予測結果： crack\n",
      "data/test/crack/cam0137310_2.jpg\n",
      "tensor([[-3.9428,  3.4709]])\n",
      "入力画像の予測結果： black\n",
      "data/test/crack/cam1337334_22.jpg\n",
      "tensor([[ 5.9941, -5.4856]])\n",
      "入力画像の予測結果： crack\n",
      "data/test/crack/cam1337337_16.jpg\n",
      "tensor([[ 5.7391, -4.9856]])\n",
      "入力画像の予測結果： crack\n",
      "data/test/crack/cam1337337_10.jpg\n",
      "tensor([[ 8.6327, -8.3727]])\n",
      "入力画像の予測結果： crack\n",
      "data/test/crack/cam1337338_15.jpg\n",
      "tensor([[ 5.7154, -5.4666]])\n",
      "入力画像の予測結果： crack\n",
      "data/test/crack/cam1337337_26.jpg\n",
      "tensor([[ 7.1620, -7.0324]])\n",
      "入力画像の予測結果： crack\n",
      "data/test/crack/cam1337337_3.jpg\n",
      "tensor([[ 5.8980, -5.6479]])\n",
      "入力画像の予測結果： crack\n",
      "data/test/crack/cam0137333_14.jpg\n",
      "tensor([[-4.0589,  3.5301]])\n",
      "入力画像の予測結果： black\n",
      "data/test/crack/cam1337338_11.jpg\n",
      "tensor([[ 5.7611, -4.9700]])\n",
      "入力画像の予測結果： crack\n",
      "data/test/crack/cam1337334_21.jpg\n",
      "tensor([[ 7.5384, -6.2583]])\n",
      "入力画像の予測結果： crack\n",
      "data/test/crack/cam0137340_1.jpg\n",
      "tensor([[-3.0460,  2.6860]])\n",
      "入力画像の予測結果： black\n",
      "data/test/crack/cam0137312_1.jpg\n",
      "tensor([[-3.3635,  3.0588]])\n",
      "入力画像の予測結果： black\n",
      "data/test/crack/cam1337337_7.jpg\n",
      "tensor([[ 7.2016, -7.5003]])\n",
      "入力画像の予測結果： crack\n",
      "data/test/crack/cam1337337_1.jpg\n",
      "tensor([[ 5.5866, -5.0971]])\n",
      "入力画像の予測結果： crack\n",
      "data/test/crack/cam1337337_22.jpg\n",
      "tensor([[ 7.9528, -7.7654]])\n",
      "入力画像の予測結果： crack\n",
      "data/test/crack/cam0137289_4.jpg\n",
      "tensor([[-3.9026,  3.4963]])\n",
      "入力画像の予測結果： black\n",
      "data/test/crack/cam1337337_15.jpg\n",
      "tensor([[ 8.0141, -7.8401]])\n",
      "入力画像の予測結果： crack\n",
      "data/test/crack/cam1337334_24.jpg\n",
      "tensor([[ 7.3935, -7.6478]])\n",
      "入力画像の予測結果： crack\n",
      "data/test/crack/cam0137293_1.jpg\n",
      "tensor([[-3.5588,  3.2140]])\n",
      "入力画像の予測結果： black\n",
      "data/test/crack/cam1337334_25.jpg\n",
      "tensor([[ 7.0505, -7.6036]])\n",
      "入力画像の予測結果： crack\n",
      "data/test/crack/cam0137297_2.jpg\n",
      "tensor([[-3.8791,  3.3165]])\n",
      "入力画像の予測結果： black\n",
      "data/test/crack/cam1337337_18.jpg\n",
      "tensor([[ 8.1757, -8.2665]])\n",
      "入力画像の予測結果： crack\n",
      "data/test/crack/cam0137277_2.jpg\n",
      "tensor([[-3.8226,  3.2918]])\n",
      "入力画像の予測結果： black\n",
      "data/test/crack/cam0137314_1.jpg\n",
      "tensor([[-2.9559,  2.5575]])\n",
      "入力画像の予測結果： black\n",
      "data/test/crack/cam1337338_5.jpg\n",
      "tensor([[ 4.4985, -4.3715]])\n",
      "入力画像の予測結果： crack\n",
      "data/test/crack/cam1337338_6.jpg\n",
      "tensor([[ 4.7563, -4.9245]])\n",
      "入力画像の予測結果： crack\n",
      "data/test/crack/cam1337338_4.jpg\n",
      "tensor([[ 6.3347, -6.1045]])\n",
      "入力画像の予測結果： crack\n",
      "data/test/crack/cam1337334_33.jpg\n",
      "tensor([[ 8.5503, -8.8278]])\n",
      "入力画像の予測結果： crack\n",
      "data/test/crack/cam1337337_5.jpg\n",
      "tensor([[ 8.8219, -8.0641]])\n",
      "入力画像の予測結果： crack\n",
      "data/test/crack/cam0137317_1.jpg\n",
      "tensor([[-3.1159,  2.8906]])\n",
      "入力画像の予測結果： black\n",
      "data/test/crack/cam1337338_18.jpg\n",
      "tensor([[ 7.4551, -7.2907]])\n",
      "入力画像の予測結果： crack\n",
      "data/test/crack/cam0137275_1.jpg\n",
      "tensor([[-4.0675,  3.5678]])\n",
      "入力画像の予測結果： black\n",
      "data/test/crack/cam0137278_2.jpg\n",
      "tensor([[-3.2997,  3.2710]])\n",
      "入力画像の予測結果： black\n",
      "data/test/crack/cam1337338_3.jpg\n",
      "tensor([[ 5.6294, -5.1247]])\n",
      "入力画像の予測結果： crack\n",
      "data/test/crack/cam1337337_25.jpg\n",
      "tensor([[ 5.6291, -5.4510]])\n",
      "入力画像の予測結果： crack\n",
      "data/test/crack/cam1337338_7.jpg\n",
      "tensor([[ 7.3219, -7.7531]])\n",
      "入力画像の予測結果： crack\n",
      "data/test/crack/cam0137267_1.jpg\n",
      "tensor([[-2.4129,  2.0677]])\n",
      "入力画像の予測結果： black\n",
      "data/test/crack/cam1337338_10.jpg\n",
      "tensor([[ 6.4803, -6.4512]])\n",
      "入力画像の予測結果： crack\n"
     ]
    }
   ],
   "source": [
    "imsize = 50\n",
    "loader = transforms.Compose([transforms.Scale(imsize), transforms.ToTensor()])\n",
    "from torch.autograd import Variable #自動微分用\n",
    "\n",
    "\n",
    "def image_loader(image_name):\n",
    "    \"\"\"load image, returns cuda tensor\"\"\"\n",
    "    image = Image.open(image_name)\n",
    "    image = loader(image).float()\n",
    "    image = transforms.Normalize(mean, std)(image)\n",
    "    image = Variable(image, requires_grad=True)\n",
    "    image = image.unsqueeze(0)  #this is for VGG, may not be needed for ResNet\n",
    "    return image  #assumes that you're using GPU  \n",
    "\n",
    "for image_path in glob.glob('data/test/crack/*.jpg'):\n",
    "    print(image_path)\n",
    "    image = image_loader(image_path)\n",
    "    # モデルに入力し、モデル出力をラベルに変換する\n",
    "    out = net(image).cpu().data\n",
    "    print(out)\n",
    "    out_max = np.argmax(out.numpy())\n",
    "    result = class_names[out_max]\n",
    "\n",
    "    # 予測結果を出力する\n",
    "    print(\"入力画像の予測結果：\", result)"
   ]
  },
  {
   "cell_type": "code",
   "execution_count": null,
   "metadata": {},
   "outputs": [],
   "source": []
  },
  {
   "cell_type": "code",
   "execution_count": null,
   "metadata": {},
   "outputs": [],
   "source": []
  },
  {
   "cell_type": "code",
   "execution_count": null,
   "metadata": {},
   "outputs": [],
   "source": []
  }
 ],
 "metadata": {
  "kernelspec": {
   "display_name": "Python 3",
   "language": "python",
   "name": "python3"
  },
  "language_info": {
   "codemirror_mode": {
    "name": "ipython",
    "version": 3
   },
   "file_extension": ".py",
   "mimetype": "text/x-python",
   "name": "python",
   "nbconvert_exporter": "python",
   "pygments_lexer": "ipython3",
   "version": "3.6.10"
  }
 },
 "nbformat": 4,
 "nbformat_minor": 4
}
